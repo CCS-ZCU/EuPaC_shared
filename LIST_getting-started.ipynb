{
 "cells": [
  {
   "metadata": {},
   "cell_type": "markdown",
   "source": [
    "[![Open In Colab](https://colab.research.google.com/assets/colab-badge.svg)](https://colab.research.google.com/github/CCS-ZCU/EuPaC_shared/blob/master/LIST_getting-started.ipynb)\n",
    "\n",
    "This Jupyter notebook has been prepared for the EuPaC Hackathon and provides an easy way to start working with the LIST dataset — no need to clone the entire repository or download additional data. It is fully compatible with cloud platforms like Google Colaboratory (click the badge above) and runs without requiring any specialized library installations.\n",
    "\n",
    "As such, it is intended as a starting point for EuPaC participants, including those with minimal coding experience."
   ]
  },
  {
   "cell_type": "code",
   "metadata": {
    "execution_time": 1,
    "id": "6xiYIACFchIf",
    "ExecuteTime": {
     "end_time": "2025-04-29T11:52:16.464128Z",
     "start_time": "2025-04-29T11:52:16.295797Z"
    }
   },
   "source": [
    "import os\n",
    "import requests\n",
    "import geopandas as gpd\n",
    "import numpy as np"
   ],
   "outputs": [],
   "execution_count": 1
  },
  {
   "cell_type": "code",
   "metadata": {
    "colab": {
     "base_uri": "https://localhost:8080/"
    },
    "execution_time": 2,
    "id": "e44Vzsu-iXGE",
    "outputId": "93a6b364-e65f-41ba-d48c-d22394ad20d1",
    "ExecuteTime": {
     "end_time": "2025-04-23T10:38:45.331026Z",
     "start_time": "2025-04-23T10:38:27.036125Z"
    }
   },
   "source": [
    "# (1) download the dataset file in the parquet file format directly from zenodo:\n",
    "# (feel free to change the download location following the --output parameter)\n",
    "# Create directory for data and subdirectories if not already existent\n",
    "os.makedirs(\"data/large_data\", exist_ok=True)\n",
    "\n",
    "!curl https://zenodo.org/records/10473706/files/LIST_v1-2.parquet --output data/large_data/LIST_v1-2.parquet"
   ],
   "outputs": [
    {
     "name": "stdout",
     "output_type": "stream",
     "text": [
      "  % Total    % Received % Xferd  Average Speed   Time    Time     Time  Current\r\n",
      "                                 Dload  Upload   Total   Spent    Left  Speed\r\n",
      "100  104M  100  104M    0     0  5913k      0  0:00:18  0:00:18 --:--:-- 6337k\r\n"
     ]
    }
   ],
   "execution_count": 2
  },
  {
   "metadata": {
    "ExecuteTime": {
     "end_time": "2025-04-23T10:38:51.087405Z",
     "start_time": "2025-04-23T10:38:49.029456Z"
    }
   },
   "cell_type": "code",
   "source": "LIST = gpd.read_parquet(\"data/large_data/LIST_v1-2.parquet\")",
   "outputs": [],
   "execution_count": 3
  },
  {
   "cell_type": "code",
   "metadata": {
    "colab": {
     "base_uri": "https://localhost:8080/"
    },
    "execution_time": 4,
    "id": "67cYPai7iFPZ",
    "outputId": "10e94002-2d24-4962-ce19-40152d50c9b9",
    "ExecuteTime": {
     "end_time": "2025-04-23T10:39:20.457688Z",
     "start_time": "2025-04-23T10:39:20.453989Z"
    }
   },
   "source": [
    "LIST.shape"
   ],
   "outputs": [
    {
     "data": {
      "text/plain": [
       "(525870, 65)"
      ]
     },
     "execution_count": 5,
     "metadata": {},
     "output_type": "execute_result"
    }
   ],
   "execution_count": 5
  },
  {
   "metadata": {
    "execution_time": 3,
    "id": "yfscJ7ilhRNd",
    "ExecuteTime": {
     "end_time": "2025-04-23T10:39:20.967091Z",
     "start_time": "2025-04-23T10:39:20.950049Z"
    }
   },
   "cell_type": "code",
   "source": "LIST.head(5)",
   "outputs": [
    {
     "data": {
      "text/plain": [
       "        LIST-ID        EDCS-ID    EDH-ID  \\\n",
       "445463   445464  EDCS-24900077  HD056163   \n",
       "445464   445465  EDCS-03700724  HD052964   \n",
       "445465   445466  EDCS-13800065  HD017714   \n",
       "445466   445467  EDCS-03300852  HD051000   \n",
       "445467   445468  EDCS-28500283  HD021396   \n",
       "\n",
       "                                trismegistos_uri pleiades_id  \\\n",
       "445463  https://www.trismegistos.org/text/177366      570485   \n",
       "445464  https://www.trismegistos.org/text/121715      531064   \n",
       "445465  https://www.trismegistos.org/text/177100      570049   \n",
       "445466  https://www.trismegistos.org/text/177273      240855   \n",
       "445467  https://www.trismegistos.org/text/177131               \n",
       "\n",
       "                                            transcription  \\\n",
       "445463  Q(uinto) Caecilio C(ai) f(ilio) Metelo / imper...   \n",
       "445464  Fortissimo et piis/simo Caesari d(omino) n(ost...   \n",
       "445465  Italicei / quei Aegei negotiantur / P(ublium) ...   \n",
       "445466  [Imp(eratori) Caes(ari) M(arco)] / An[nio] Flo...   \n",
       "445467  T[i(berius)] Claudius Caesar Aug(ustus) / G[er...   \n",
       "\n",
       "                                              inscription  \\\n",
       "445463  Q(uinto) Caecilio C(ai) f(ilio) Metel(l)o / im...   \n",
       "445464  Fortissimo et Piis/simo Caesari d(omino) n(ost...   \n",
       "445465  Italicei / quei Aegei negotiantur / P(ublium) ...   \n",
       "445466  Imp(eratori) / Floriano / P(io) F(elici) Aug(u...   \n",
       "445467  T[(iberius)] Claudius Caesar Aug(ustus) / G[er...   \n",
       "\n",
       "                                  clean_text_conservative  \\\n",
       "445463  Q Caecilio C f Metelo imperatori Italici quei ...   \n",
       "445464  Fortissimo et piissimo Caesari d n Gal Val P F...   \n",
       "445465  Italicei quei Aegei negotiantur P Rutilium P f...   \n",
       "445466  An Floriano P F Aug p p m p III Imp Caes M Aur...   \n",
       "445467  T Claudius Caesar Aug Ganicus pontif max trib ...   \n",
       "\n",
       "                         clean_text_interpretive_sentence  \\\n",
       "445463  Quinto Caecilio Cai filio Metelo imperatori It...   \n",
       "445464  Fortissimo et piissimo Caesari domino nostro G...   \n",
       "445465  Italicei quei Aegei negotiantur Publium Rutili...   \n",
       "445466  Imperatori Caesari Marco Annio Floriano Pio Fe...   \n",
       "445467  Tiberius Claudius Caesar Augustus Germanicus p...   \n",
       "\n",
       "                             clean_text_interpretive_word  ...  Longitude  \\\n",
       "445463  Quinto Caecilio Cai filio Metelo imperatori It...  ...  22.841200   \n",
       "445464  Fortissimo et piissimo Caesari domino nostro G...  ...  20.766800   \n",
       "445465  Italicei quei Aegei negotiantur Publium Rutili...  ...  22.084500   \n",
       "445466  Imperatori Caesari Marco Annio Floriano Pio Fe...  ...  22.417100   \n",
       "445467  Tiberius Claudius Caesar Augustus Germanicus p...  ...  22.420877   \n",
       "\n",
       "         Latitude is_geotemporal                  geometry is_within_RE  \\\n",
       "445463  37.649800           True   POINT (22.8412 37.6498)         True   \n",
       "445464  39.451200           True   POINT (20.7668 39.4512)         True   \n",
       "445465  38.248700           True   POINT (22.0845 38.2487)         True   \n",
       "445466  37.431900           True   POINT (22.4171 37.4319)         True   \n",
       "445467  37.454501           True  POINT (22.42088 37.4545)         True   \n",
       "\n",
       "       urban_context urban_context_city urban_context_pop_est  \\\n",
       "445463         rural               None                   NaN   \n",
       "445464         rural               None                   NaN   \n",
       "445465         small             Aegium                1000.0   \n",
       "445466         large              Tegea               46362.0   \n",
       "445467         large              Tegea               46362.0   \n",
       "\n",
       "        type_of_inscription_auto type_of_inscription_auto_prob  \n",
       "445463     honorific inscription                           1.0  \n",
       "445464     honorific inscription                           1.0  \n",
       "445465        votive inscription                           1.0  \n",
       "445466         mile-/leaguestone                           1.0  \n",
       "445467  public legal inscription                           1.0  \n",
       "\n",
       "[5 rows x 65 columns]"
      ],
      "text/html": [
       "<div>\n",
       "<style scoped>\n",
       "    .dataframe tbody tr th:only-of-type {\n",
       "        vertical-align: middle;\n",
       "    }\n",
       "\n",
       "    .dataframe tbody tr th {\n",
       "        vertical-align: top;\n",
       "    }\n",
       "\n",
       "    .dataframe thead th {\n",
       "        text-align: right;\n",
       "    }\n",
       "</style>\n",
       "<table border=\"1\" class=\"dataframe\">\n",
       "  <thead>\n",
       "    <tr style=\"text-align: right;\">\n",
       "      <th></th>\n",
       "      <th>LIST-ID</th>\n",
       "      <th>EDCS-ID</th>\n",
       "      <th>EDH-ID</th>\n",
       "      <th>trismegistos_uri</th>\n",
       "      <th>pleiades_id</th>\n",
       "      <th>transcription</th>\n",
       "      <th>inscription</th>\n",
       "      <th>clean_text_conservative</th>\n",
       "      <th>clean_text_interpretive_sentence</th>\n",
       "      <th>clean_text_interpretive_word</th>\n",
       "      <th>...</th>\n",
       "      <th>Longitude</th>\n",
       "      <th>Latitude</th>\n",
       "      <th>is_geotemporal</th>\n",
       "      <th>geometry</th>\n",
       "      <th>is_within_RE</th>\n",
       "      <th>urban_context</th>\n",
       "      <th>urban_context_city</th>\n",
       "      <th>urban_context_pop_est</th>\n",
       "      <th>type_of_inscription_auto</th>\n",
       "      <th>type_of_inscription_auto_prob</th>\n",
       "    </tr>\n",
       "  </thead>\n",
       "  <tbody>\n",
       "    <tr>\n",
       "      <th>445463</th>\n",
       "      <td>445464</td>\n",
       "      <td>EDCS-24900077</td>\n",
       "      <td>HD056163</td>\n",
       "      <td>https://www.trismegistos.org/text/177366</td>\n",
       "      <td>570485</td>\n",
       "      <td>Q(uinto) Caecilio C(ai) f(ilio) Metelo / imper...</td>\n",
       "      <td>Q(uinto) Caecilio C(ai) f(ilio) Metel(l)o / im...</td>\n",
       "      <td>Q Caecilio C f Metelo imperatori Italici quei ...</td>\n",
       "      <td>Quinto Caecilio Cai filio Metelo imperatori It...</td>\n",
       "      <td>Quinto Caecilio Cai filio Metelo imperatori It...</td>\n",
       "      <td>...</td>\n",
       "      <td>22.841200</td>\n",
       "      <td>37.649800</td>\n",
       "      <td>True</td>\n",
       "      <td>POINT (22.8412 37.6498)</td>\n",
       "      <td>True</td>\n",
       "      <td>rural</td>\n",
       "      <td>None</td>\n",
       "      <td>NaN</td>\n",
       "      <td>honorific inscription</td>\n",
       "      <td>1.0</td>\n",
       "    </tr>\n",
       "    <tr>\n",
       "      <th>445464</th>\n",
       "      <td>445465</td>\n",
       "      <td>EDCS-03700724</td>\n",
       "      <td>HD052964</td>\n",
       "      <td>https://www.trismegistos.org/text/121715</td>\n",
       "      <td>531064</td>\n",
       "      <td>Fortissimo et piis/simo Caesari d(omino) n(ost...</td>\n",
       "      <td>Fortissimo et Piis/simo Caesari d(omino) n(ost...</td>\n",
       "      <td>Fortissimo et piissimo Caesari d n Gal Val P F...</td>\n",
       "      <td>Fortissimo et piissimo Caesari domino nostro G...</td>\n",
       "      <td>Fortissimo et piissimo Caesari domino nostro G...</td>\n",
       "      <td>...</td>\n",
       "      <td>20.766800</td>\n",
       "      <td>39.451200</td>\n",
       "      <td>True</td>\n",
       "      <td>POINT (20.7668 39.4512)</td>\n",
       "      <td>True</td>\n",
       "      <td>rural</td>\n",
       "      <td>None</td>\n",
       "      <td>NaN</td>\n",
       "      <td>honorific inscription</td>\n",
       "      <td>1.0</td>\n",
       "    </tr>\n",
       "    <tr>\n",
       "      <th>445465</th>\n",
       "      <td>445466</td>\n",
       "      <td>EDCS-13800065</td>\n",
       "      <td>HD017714</td>\n",
       "      <td>https://www.trismegistos.org/text/177100</td>\n",
       "      <td>570049</td>\n",
       "      <td>Italicei / quei Aegei negotiantur / P(ublium) ...</td>\n",
       "      <td>Italicei / quei Aegei negotiantur / P(ublium) ...</td>\n",
       "      <td>Italicei quei Aegei negotiantur P Rutilium P f...</td>\n",
       "      <td>Italicei quei Aegei negotiantur Publium Rutili...</td>\n",
       "      <td>Italicei quei Aegei negotiantur Publium Rutili...</td>\n",
       "      <td>...</td>\n",
       "      <td>22.084500</td>\n",
       "      <td>38.248700</td>\n",
       "      <td>True</td>\n",
       "      <td>POINT (22.0845 38.2487)</td>\n",
       "      <td>True</td>\n",
       "      <td>small</td>\n",
       "      <td>Aegium</td>\n",
       "      <td>1000.0</td>\n",
       "      <td>votive inscription</td>\n",
       "      <td>1.0</td>\n",
       "    </tr>\n",
       "    <tr>\n",
       "      <th>445466</th>\n",
       "      <td>445467</td>\n",
       "      <td>EDCS-03300852</td>\n",
       "      <td>HD051000</td>\n",
       "      <td>https://www.trismegistos.org/text/177273</td>\n",
       "      <td>240855</td>\n",
       "      <td>[Imp(eratori) Caes(ari) M(arco)] / An[nio] Flo...</td>\n",
       "      <td>Imp(eratori) / Floriano / P(io) F(elici) Aug(u...</td>\n",
       "      <td>An Floriano P F Aug p p m p III Imp Caes M Aur...</td>\n",
       "      <td>Imperatori Caesari Marco Annio Floriano Pio Fe...</td>\n",
       "      <td>Imperatori Caesari Marco Annio Floriano Pio Fe...</td>\n",
       "      <td>...</td>\n",
       "      <td>22.417100</td>\n",
       "      <td>37.431900</td>\n",
       "      <td>True</td>\n",
       "      <td>POINT (22.4171 37.4319)</td>\n",
       "      <td>True</td>\n",
       "      <td>large</td>\n",
       "      <td>Tegea</td>\n",
       "      <td>46362.0</td>\n",
       "      <td>mile-/leaguestone</td>\n",
       "      <td>1.0</td>\n",
       "    </tr>\n",
       "    <tr>\n",
       "      <th>445467</th>\n",
       "      <td>445468</td>\n",
       "      <td>EDCS-28500283</td>\n",
       "      <td>HD021396</td>\n",
       "      <td>https://www.trismegistos.org/text/177131</td>\n",
       "      <td></td>\n",
       "      <td>T[i(berius)] Claudius Caesar Aug(ustus) / G[er...</td>\n",
       "      <td>T[(iberius)] Claudius Caesar Aug(ustus) / G[er...</td>\n",
       "      <td>T Claudius Caesar Aug Ganicus pontif max trib ...</td>\n",
       "      <td>Tiberius Claudius Caesar Augustus Germanicus p...</td>\n",
       "      <td>Tiberius Claudius Caesar Augustus Germanicus p...</td>\n",
       "      <td>...</td>\n",
       "      <td>22.420877</td>\n",
       "      <td>37.454501</td>\n",
       "      <td>True</td>\n",
       "      <td>POINT (22.42088 37.4545)</td>\n",
       "      <td>True</td>\n",
       "      <td>large</td>\n",
       "      <td>Tegea</td>\n",
       "      <td>46362.0</td>\n",
       "      <td>public legal inscription</td>\n",
       "      <td>1.0</td>\n",
       "    </tr>\n",
       "  </tbody>\n",
       "</table>\n",
       "<p>5 rows × 65 columns</p>\n",
       "</div>"
      ]
     },
     "execution_count": 6,
     "metadata": {},
     "output_type": "execute_result"
    }
   ],
   "execution_count": 6
  },
  {
   "metadata": {
    "colab": {
     "base_uri": "https://localhost:8080/",
     "height": 432
    },
    "execution_time": 10,
    "id": "nhHJgYpfRjOy",
    "outputId": "6aac6579-4ade-46d2-e42b-ac97a6c95191",
    "ExecuteTime": {
     "end_time": "2025-04-23T10:42:41.489596Z",
     "start_time": "2025-04-23T10:42:35.399277Z"
    }
   },
   "cell_type": "code",
   "source": [
    "# spatial explorations\n",
    "LIST[LIST[\"is_geotemporal\"]].plot(color=\"black\", markersize=1)"
   ],
   "outputs": [
    {
     "data": {
      "text/plain": [
       "<Axes: >"
      ]
     },
     "execution_count": 12,
     "metadata": {},
     "output_type": "execute_result"
    },
    {
     "data": {
      "text/plain": [
       "<Figure size 640x480 with 1 Axes>"
      ],
      "image/png": "[encoded data removed]"
     },
     "metadata": {},
     "output_type": "display_data"
    }
   ],
   "execution_count": 12
  },
  {
   "metadata": {
    "ExecuteTime": {
     "end_time": "2025-04-23T10:43:28.715390Z",
     "start_time": "2025-04-23T10:43:28.706363Z"
    }
   },
   "cell_type": "code",
   "source": [
    "# textual explorations\n",
    "LIST_texts = LIST[\"clean_text_interpretive_word\"].tolist()\n",
    "LIST_texts[:10]\n"
   ],
   "outputs": [
    {
     "data": {
      "text/plain": [
       "['Quinto Caecilio Cai filio Metelo imperatori Italici quei Argeis negotiantur',\n",
       " 'Fortissimo et piissimo Caesari domino nostro Galerio Valerio Maximiano Pio Felici Invicto Coranius Titianus vir perfectissimus praeses provinciae veteris Epiri numini eorum dicatissimus',\n",
       " 'Italicei quei Aegei negotiantur Publium Rutilium Publi filium Nudum quaestorem',\n",
       " 'Imperatori Caesari Marco Annio Floriano Pio Felici Augusto patri patriae milia passuum III Imperatori Caesari Marco Aurelio Probo Pio Felici Augusto milia passuum II',\n",
       " 'Tiberius Claudius Caesar Augustus Germanicus pontifex maximus tribunicia potestate VIIII imperator XVI pater patriae dicit cum et colonias et municipia non solum Italiae verum etiam provinciarum item civitatium cuius que provinciae lebare oneribus vehiculorum praebendorum saepe temptavissem et cum satis multa remedia invenisse mihi viderer potuit tamen nequitiae hominum C RAS RVM aut falsa nomina ius dedit turo ante diem',\n",
       " 'Pro salute Imperatorum Caesaris Luci Septimi Severi et Marci Aureli Antonini Auggustorum et Publi Septimi Gaetae Caesaris Marcus Aurelius Rufinus evocatus Auggustorum nnostrorum Sancto Deo Invicto speleum constituit cum militibus praetorianis Flavio Clarino Aelio Messio Aurelio Iuliano',\n",
       " 'Diogenes piscinam lt v gt eterem no lt v gt am fecit totam',\n",
       " 'Octavius Salutaris',\n",
       " 'tionee praecepimus maiori exuberante me aca haberet etiam con nostrae favor AECT',\n",
       " 'Aulus Didius Gallus legatus Tiberi Claudi Caesaris Augusti Germanici triumphalibus ornamentis XV vir sacris faciundis proconsul Asiae et Siciliae legatus Asiae praefectus equitatus quaestor imperatoris']"
      ]
     },
     "execution_count": 13,
     "metadata": {},
     "output_type": "execute_result"
    }
   ],
   "execution_count": 13
  },
  {
   "metadata": {},
   "cell_type": "code",
   "outputs": [],
   "execution_count": null,
   "source": ""
  }
 ],
 "metadata": {
  "colab": {
   "provenance": []
  },
  "kernelspec": {
   "display_name": "Python 3 (ipykernel)",
   "language": "python",
   "name": "python3"
  },
  "language_info": {
   "name": "python"
  }
 },
 "nbformat": 4,
 "nbformat_minor": 0
}
